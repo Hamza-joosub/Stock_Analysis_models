{
 "cells": [
  {
   "cell_type": "code",
   "execution_count": 6,
   "metadata": {},
   "outputs": [],
   "source": [
    "import pandas as pd\n",
    "import datetime as dt\n",
    "from pandas_datareader import data as pdr"
   ]
  },
  {
   "cell_type": "code",
   "execution_count": 1,
   "metadata": {},
   "outputs": [],
   "source": [
    "fileName = \"JSE_BHG, 12M_4ac7d.csv\"\n",
    "historicalYears = 5\n",
    "newName = \"BHP Analysis 2\"\n",
    "end = dt.datetime.now()\n"
   ]
  },
  {
   "cell_type": "code",
   "execution_count": 4,
   "metadata": {},
   "outputs": [
    {
     "name": "stdout",
     "output_type": "stream",
     "text": [
      "(22, 81)\n"
     ]
    }
   ],
   "source": [
    "\n",
    "df = pd.read_csv(fileName, delimiter=\",\")\n",
    "df.drop(['open', 'high','low','close','Volume','Volume MA'], axis=1, inplace=True)\n",
    "count = 0\n",
    "for i in df['time']:\n",
    "    i = i[0:10]\n",
    "    df.iloc[count, 0] = i\n",
    "    count = count +1\n",
    "df.set_index(df['time'])\n",
    "print(df.shape)\n",
    "for i in range(df.shape[0]-historicalYears):\n",
    "    df.drop([df.index[0]], inplace = True) "
   ]
  },
  {
   "cell_type": "code",
   "execution_count": 5,
   "metadata": {},
   "outputs": [],
   "source": [
    "df2 = df.transpose()\n",
    "df2.to_excel(r\"/Users/hamza/Documents/Laptop/Stock Analysis/yop/\" + newName + \".xlsx\")"
   ]
  }
 ],
 "metadata": {
  "kernelspec": {
   "display_name": "tf",
   "language": "python",
   "name": "python3"
  },
  "language_info": {
   "codemirror_mode": {
    "name": "ipython",
    "version": 3
   },
   "file_extension": ".py",
   "mimetype": "text/x-python",
   "name": "python",
   "nbconvert_exporter": "python",
   "pygments_lexer": "ipython3",
   "version": "3.9.16"
  },
  "orig_nbformat": 4
 },
 "nbformat": 4,
 "nbformat_minor": 2
}
